{
 "cells": [
  {
   "cell_type": "markdown",
   "id": "5bb2efc6",
   "metadata": {},
   "source": [
    "# Xenium Lung Preview — Full Analysis (Python, step by step)\n",
    "\n",
    "We will:\n",
    "1) Locate and read `cells.parquet` (robustly detect XY columns)  \n",
    "2) Stream `transcripts.parquet` in two passes to build a sparse cell×gene matrix  \n",
    "3) Add QC fields, run adaptive QC, normalize, HVGs, PCA, neighbors, UMAP, Leiden  \n",
    "4) Make ≥12 figures (QC, UMAPs, spatial, markers, neighborhood enrichment)  \n",
    "5) Save final object (`.h5ad`) and a short summary\n",
    "\n",
    "> Dataset: 10x *Xenium Human Lung Preview (FFPE, non-diseased)*  \n",
    "> Run inside your `xenium` env (`uv run jupyter lab` or `uv run python`)."
   ]
  },
  {
   "cell_type": "code",
   "execution_count": 1,
   "id": "65153a2f-60ec-494f-a3a2-f68785e1f4d7",
   "metadata": {},
   "outputs": [
    {
     "name": "stdout",
     "output_type": "stream",
     "text": [
      "[INFO] Using dataset folder: /home/juliors/Documents/SPATIAL-OMICS/xenium-lung-preview-tutorial/data/xenium_preview_human_non_diseased_lung_with_add_on_ffpe\n"
     ]
    }
   ],
   "source": [
    "# Core stdlib\n",
    "import os, sys, gc, pathlib\n",
    "from datetime import datetime\n",
    "\n",
    "# Data science stack\n",
    "import numpy as np\n",
    "import pandas as pd\n",
    "import pyarrow.parquet as pq\n",
    "import pyarrow.dataset as ds\n",
    "from scipy.sparse import coo_matrix, csr_matrix\n",
    "import anndata as ad\n",
    "import scanpy as sc\n",
    "import matplotlib.pyplot as plt\n",
    "import seaborn as sns\n",
    "\n",
    "# Optional: quiet a dask warning some packages emit\n",
    "try:\n",
    "    import dask\n",
    "    dask.config.set({\"dataframe.query-planning\": True})\n",
    "except Exception:\n",
    "    pass\n",
    "\n",
    "# Paths (assumes this notebook lives in repo/notebooks or repo/)\n",
    "ROOT = pathlib.Path.cwd()\n",
    "if ROOT.name == \"notebooks\":\n",
    "    ROOT = ROOT.parents[0]\n",
    "DATA = ROOT / \"data\"\n",
    "RESULTS = ROOT / \"results\"; RESULTS.mkdir(exist_ok=True)\n",
    "FIGS = RESULTS / \"figures\"; FIGS.mkdir(parents=True, exist_ok=True)\n",
    "\n",
    "# Plot look\n",
    "sc.set_figure_params(dpi=120, frameon=False)\n",
    "sns.set_context(\"talk\", font_scale=0.9)\n",
    "\n",
    "# Find the unpacked dataset folder (created by your unpack script)\n",
    "FOLDER_CANDS = sorted(DATA.glob(\"xenium_*lung*_ffpe\"))\n",
    "assert FOLDER_CANDS, \"No unpacked Xenium folder found under data/.\"\n",
    "FOLDER = FOLDER_CANDS[0]\n",
    "print(f\"[INFO] Using dataset folder: {FOLDER}\")"
   ]
  },
  {
   "cell_type": "markdown",
   "id": "91fe64c9-0397-4051-af54-09545efcb271",
   "metadata": {},
   "source": [
    "\n",
    "Xenium output uses slightly different column names across versions.  \n",
    "We normalize **x/y** names to `x_location`, `y_location` and keep `cell_id` as index."
   ]
  },
  {
   "cell_type": "code",
   "execution_count": 4,
   "id": "fd038aa4-025c-40c2-b874-022d36ada07c",
   "metadata": {},
   "outputs": [
    {
     "name": "stdout",
     "output_type": "stream",
     "text": [
      "[LOAD] cells.parquet → 295,883 cells; coords = (x_centroid, y_centroid)\n"
     ]
    }
   ],
   "source": [
    "\n",
    "# Read the cells table (arrow→pandas)\n",
    "cells_path = FOLDER / \"cells.parquet\"\n",
    "assert cells_path.exists(), f\"Missing {cells_path}\"\n",
    "cells_df = pq.read_table(cells_path).to_pandas()\n",
    "\n",
    "# Decode byte columns to strings (10x often stores 'binary' columns)\n",
    "for col in cells_df.columns:\n",
    "    if cells_df[col].dtype == object:\n",
    "        cells_df[col] = cells_df[col].apply(\n",
    "            lambda x: x.decode(\"utf-8\", \"ignore\") if isinstance(x, (bytes, bytearray)) else x\n",
    "        )\n",
    "\n",
    "# Ensure we have cell IDs\n",
    "assert \"cell_id\" in cells_df.columns, f\"'cell_id' missing; saw: {cells_df.columns.tolist()}\"\n",
    "\n",
    "# Robust XY detection (handle multiple historical names)\n",
    "lower_to_orig = {c.lower(): c for c in cells_df.columns}\n",
    "x_candidates = [\"x_location\",\"x_centroid\",\"center_x\",\"x\"]\n",
    "y_candidates = [\"y_location\",\"y_centroid\",\"center_y\",\"y\"]\n",
    "\n",
    "x_col = next((lower_to_orig[c] for c in x_candidates if c in lower_to_orig), None)\n",
    "y_col = next((lower_to_orig[c] for c in y_candidates if c in lower_to_orig), None)\n",
    "assert x_col and y_col, f\"Could not find XY in cells.parquet. Columns: {cells_df.columns.tolist()}\"\n",
    "\n",
    "# Standardize names for downstream tools\n",
    "cells_df = cells_df.rename(columns={x_col: \"x_location\", y_col: \"y_location\"})\n",
    "cells_df[\"x_location\"] = pd.to_numeric(cells_df[\"x_location\"], errors=\"coerce\")\n",
    "cells_df[\"y_location\"] = pd.to_numeric(cells_df[\"y_location\"], errors=\"coerce\")\n",
    "\n",
    "# Keep a clean obs table (you can add more columns if you like)\n",
    "keep_cols = [\"cell_id\",\"x_location\",\"y_location\"]\n",
    "for extra in [\"fov_name\",\"area\",\"nucleus_area\"]:\n",
    "    if extra in cells_df.columns: keep_cols.append(extra)\n",
    "\n",
    "cells_df = cells_df[keep_cols].set_index(\"cell_id\", drop=False).sort_index()\n",
    "print(f\"[LOAD] cells.parquet → {len(cells_df):,} cells; coords = ({x_col}, {y_col})\")\n",
    "\n",
    "# Quick sanity figure (spatial density)\n",
    "plt.figure(figsize=(5.6,5.6))\n",
    "plt.hist2d(cells_df[\"x_location\"], cells_df[\"y_location\"], bins=300)\n",
    "plt.gca().invert_yaxis(); plt.axis(\"equal\"); plt.title(\"Spatial: cell density (all cells)\")\n",
    "plt.tight_layout(); plt.savefig(FIGS/\"00_spatial_density_all_cells.png\", dpi=200); plt.close()\n"
   ]
  },
  {
   "cell_type": "markdown",
   "id": "e474c1da-2394-4720-a079-f67bea2cb353",
   "metadata": {},
   "source": [
    "We’ll stream **transcripts.parquet**. First detect the **gene column** name (varies: `feature_name`, `gene`, etc.)."
   ]
  },
  {
   "cell_type": "code",
   "execution_count": 6,
   "id": "a3b04c1e-f994-4cc5-be99-0d8b3ff402a6",
   "metadata": {},
   "outputs": [],
   "source": [
    "tx_path = FOLDER / \"transcripts.parquet\"\n",
    "assert tx_path.exists(), f\"Missing {tx_path}\"\n",
    "\n",
    "# Create an Arrow Dataset for streaming\n",
    "dataset = ds.dataset(tx_path)\n",
    "schema_names = dataset.schema.names\n",
    "schema_lower = {n.lower(): n for n in schema_names}\n",
    "\n",
    "# Robust gene column detection\n",
    "for cand in [\"feature_name\",\"gene\",\"gene_name\",\"target\"]:\n",
    "    if cand in schema_lower:\n",
    "        GENE_COL = schema_lower[cand]\n",
    "        break\n",
    "else:\n",
    "    raise KeyError(f\"No gene column found in transcripts.parquet. Columns: {schema_names}\")\n",
    "\n",
    "print(f\"[SCAN] transcripts.parquet gene column: {GENE_COL}\")"
   ]
  },
  {
   "cell_type": "markdown",
   "id": "a68e2519-372d-4d7e-8988-ea72c41c3874",
   "metadata": {},
   "source": [
    "Pass 1 collects the **unique gene list** (and abundance) with tiny memory use."
   ]
  },
  {
   "cell_type": "code",
   "execution_count": 7,
   "id": "8b59a9b4-7823-4b55-bdca-da468cd31c89",
   "metadata": {},
   "outputs": [
    {
     "name": "stdout",
     "output_type": "stream",
     "text": [
      "[pass1] unique genes: 0\n",
      "[SHAPE] target matrix: 295,883 cells × 0 genes\n",
      "[BUILD] sparse matrix complete: shape=(295883, 0), nnz=0\n"
     ]
    }
   ],
   "source": [
    "# Tune batch sizes to your RAM & disk speed\n",
    "PASS1_BATCH = 5_000_000  # rows per batch for gene inventory\n",
    "\n",
    "gene_totals = {}  # gene -> total molecules\n",
    "for i, batch in enumerate(dataset.to_batches(columns=[GENE_COL], batch_size=PASS1_BATCH), start=1):\n",
    "    df = batch.to_pandas()\n",
    "    # Decode bytes -> str if needed\n",
    "    if df[GENE_COL].dtype == object:\n",
    "        df[GENE_COL] = df[GENE_COL].apply(\n",
    "            lambda x: x.decode(\"utf-8\", \"ignore\") if isinstance(x, (bytes, bytearray)) else x\n",
    "        )\n",
    "    df[GENE_COL] = df[GENE_COL].astype(str)\n",
    "\n",
    "    # Count per gene in this batch, accumulate\n",
    "    vc = df[GENE_COL].value_counts()\n",
    "    for g, n in vc.items():\n",
    "        gene_totals[g] = gene_totals.get(g, 0) + int(n)\n",
    "\n",
    "    if i % 4 == 0:\n",
    "        print(f\"[pass1] batches={i} (genes so far: {len(gene_totals):,})\")\n",
    "\n",
    "    del df, vc\n",
    "    gc.collect()\n",
    "\n",
    "# Sorted genes by abundance (not strictly required, but nice for plots)\n",
    "genes = pd.Index(sorted(gene_totals, key=gene_totals.get, reverse=True), name=\"gene\")\n",
    "gene_to_col = {g:i for i,g in enumerate(genes)}\n",
    "print(f\"[pass1] unique genes: {len(genes):,}\")\n"
   ]
  },
  {
   "cell_type": "markdown",
   "id": "15a431dc-18bf-4c7d-8f24-7293d936628d",
   "metadata": {},
   "source": [
    "We align rows to `cells_df.index` and columns to our `genes` list.  \n",
    "We also pre-allocate an empty CSR matrix to accumulate counts.\n"
   ]
  },
  {
   "cell_type": "code",
   "execution_count": 23,
   "id": "b3d0d31a-efbb-45a7-af5c-c03de2a0fec1",
   "metadata": {},
   "outputs": [
    {
     "name": "stdout",
     "output_type": "stream",
     "text": [
      "[SHAPE] target matrix: 295,883 cells × 541 genes\n"
     ]
    }
   ],
   "source": [
    "ordered_cell_ids = cells_df.index.tolist()\n",
    "cell_to_row = {cid:i for i, cid in enumerate(ordered_cell_ids)}\n",
    "\n",
    "n_cells = len(ordered_cell_ids)\n",
    "n_genes = len(genes)\n",
    "\n",
    "# Empty sparse matrix to accumulate counts (int32 is enough for molecule counts)\n",
    "X = csr_matrix((n_cells, n_genes), dtype=np.int32)\n",
    "print(f\"[SHAPE] target matrix: {n_cells:,} cells × {n_genes:,} genes\")\n"
   ]
  },
  {
   "cell_type": "markdown",
   "id": "216fa46b-2e19-4bc1-8f33-a5b9305e8735",
   "metadata": {},
   "source": [
    "We stream `(cell_id, gene)` pairs, group within each batch, and **add** them into `X`.\n"
   ]
  },
  {
   "cell_type": "code",
   "execution_count": 24,
   "id": "c0d458a5-4cf7-4bc1-99c7-f4fc05d00408",
   "metadata": {},
   "outputs": [
    {
     "name": "stdout",
     "output_type": "stream",
     "text": [
      "[pass2] batches=  4  nnz=2,319,305\n",
      "[pass2] batches=  8  nnz=4,624,876\n",
      "[pass2] batches= 12  nnz=6,902,596\n",
      "[pass2] batches= 16  nnz=9,130,184\n",
      "[pass2] batches= 20  nnz=11,416,822\n",
      "[pass2] batches= 24  nnz=13,749,535\n",
      "[pass2] batches= 28  nnz=16,078,106\n",
      "[BUILD] sparse matrix complete: shape=(295883, 541), nnz=16,425,257\n"
     ]
    }
   ],
   "source": [
    "PASS2_BATCH = 2_000_000  # rows per batch for aggregation\n",
    "\n",
    "need_cols = [\"cell_id\", GENE_COL]\n",
    "for i, batch in enumerate(dataset.to_batches(columns=need_cols, batch_size=PASS2_BATCH), start=1):\n",
    "    df = batch.to_pandas()\n",
    "\n",
    "    # Decode both columns as strings\n",
    "    for col in need_cols:\n",
    "        if df[col].dtype == object:\n",
    "            df[col] = df[col].apply(\n",
    "                lambda x: x.decode(\"utf-8\", \"ignore\") if isinstance(x, (bytes, bytearray)) else x\n",
    "            )\n",
    "        df[col] = df[col].astype(str)\n",
    "\n",
    "    # Keep only cell_ids present in cells_df (speeds memory + avoids unknown cells)\n",
    "    df = df[df[\"cell_id\"].isin(cells_df.index)]\n",
    "    if df.empty:\n",
    "        del df; gc.collect(); continue\n",
    "\n",
    "    # Aggregate within-batch: (cell_id, gene) → count\n",
    "    grp = df.groupby([\"cell_id\", GENE_COL]).size().astype(np.int32)\n",
    "    del df  # free memory early\n",
    "\n",
    "    # Convert to COO triplets\n",
    "    rows, cols, data = [], [], []\n",
    "    app_r, app_c, app_v = rows.append, cols.append, data.append\n",
    "    for (cid, g), n in grp.items():\n",
    "        r = cell_to_row.get(cid)\n",
    "        c = gene_to_col.get(g)\n",
    "        if r is not None and c is not None:\n",
    "            app_r(r); app_c(c); app_v(int(n))\n",
    "    del grp\n",
    "\n",
    "    # Add this batch into global CSR\n",
    "    if rows:\n",
    "        coo = coo_matrix((data, (rows, cols)), shape=(n_cells, n_genes), dtype=np.int32).tocsr()\n",
    "        X += coo\n",
    "        del coo, rows, cols, data\n",
    "\n",
    "    if i % 4 == 0:\n",
    "        print(f\"[pass2] batches={i:>3}  nnz={X.nnz:,}\")\n",
    "    gc.collect()\n",
    "\n",
    "print(f\"[BUILD] sparse matrix complete: shape={X.shape}, nnz={X.nnz:,}\")\n"
   ]
  },
  {
   "cell_type": "markdown",
   "id": "4f77b6eb-5d68-46b3-bfec-5635f2393a50",
   "metadata": {},
   "source": [
    "Now we assemble AnnData and compute **total_counts**, **n_genes_by_counts**, and the **spatial** matrix.\n"
   ]
  },
  {
   "cell_type": "code",
   "execution_count": 25,
   "id": "7521a790-a3a7-4dd2-99ff-050ebcaf8065",
   "metadata": {},
   "outputs": [
    {
     "name": "stdout",
     "output_type": "stream",
     "text": [
      "[ANNData] 295,883 cells × 541 genes (nnz=16,425,257)\n"
     ]
    }
   ],
   "source": [
    "adata = ad.AnnData(\n",
    "    X=X,                                       # sparse counts\n",
    "    obs=cells_df.loc[ordered_cell_ids],        # row metadata (cells)\n",
    "    var=pd.DataFrame(index=genes),             # col metadata (genes)\n",
    ")\n",
    "\n",
    "# Keep raw counts before normalization\n",
    "adata.layers[\"raw_counts\"] = adata.X.copy()\n",
    "\n",
    "# QC and coordinates\n",
    "adata.obs[\"total_counts\"] = np.asarray(adata.X.sum(axis=1)).ravel()\n",
    "adata.obs[\"n_genes_by_counts\"] = np.asarray((adata.X > 0).sum(axis=1)).ravel()\n",
    "adata.obsm[\"spatial\"] = adata.obs[[\"x_location\",\"y_location\"]].to_numpy()\n",
    "\n",
    "print(f\"[ANNData] {adata.n_obs:,} cells × {adata.n_vars:,} genes (nnz={adata.X.nnz:,})\")\n",
    "\n",
    "# Figure 1—QC distribution: total counts\n",
    "plt.figure(); sns.histplot(adata.obs[\"total_counts\"], bins=80)\n",
    "plt.xlabel(\"Total counts / cell\"); plt.ylabel(\"Cells\"); plt.title(\"QC: total counts\")\n",
    "plt.tight_layout(); plt.savefig(FIGS/\"01_qc_hist_total_counts.png\", dpi=180); plt.close()\n",
    "\n",
    "# Figure 2—QC distribution: genes detected\n",
    "plt.figure(); sns.histplot(adata.obs[\"n_genes_by_counts\"], bins=80)\n",
    "plt.xlabel(\"Detected genes / cell\"); plt.ylabel(\"Cells\"); plt.title(\"QC: genes per cell\")\n",
    "plt.tight_layout(); plt.savefig(FIGS/\"02_qc_hist_genes_per_cell.png\", dpi=180); plt.close()\n",
    "\n",
    "# Figure 3—QC scatter\n",
    "plt.figure(); sns.scatterplot(\n",
    "    x=\"total_counts\", y=\"n_genes_by_counts\", s=5, alpha=0.35, data=adata.obs\n",
    ")\n",
    "plt.title(\"QC: counts vs genes\"); plt.tight_layout()\n",
    "plt.savefig(FIGS/\"03_qc_scatter_counts_vs_genes.png\", dpi=180); plt.close()\n"
   ]
  },
  {
   "cell_type": "markdown",
   "id": "fad9f08d-53c3-490e-81f0-adaed0b167ce",
   "metadata": {},
   "source": [
    "We set **data-driven** cutoffs at the 1% quantile (with floors) and retry with a relaxed fallback if needed.\n"
   ]
  },
  {
   "cell_type": "code",
   "execution_count": 27,
   "id": "e283b94f-e827-4268-afdb-21b39d8fc798",
   "metadata": {},
   "outputs": [
    {
     "name": "stdout",
     "output_type": "stream",
     "text": [
      "[QC] min_counts=50.0, min_genes=15.0 → keep 234,852/295883\n",
      "[QC] post-filter shape: (234852, 541)\n"
     ]
    }
   ],
   "source": [
    "cnt = adata.obs[\"total_counts\"]\n",
    "ng  = adata.obs[\"n_genes_by_counts\"]\n",
    "\n",
    "min_counts = max(np.quantile(cnt, 0.01), 50)   # ≥ 1st percentile or 50\n",
    "min_genes  = max(np.quantile(ng,  0.01), 15)   # ≥ 1st percentile or 15\n",
    "\n",
    "keep = (cnt >= min_counts) & (ng >= min_genes)\n",
    "n_keep = int(keep.sum())\n",
    "print(f\"[QC] min_counts={min_counts:.1f}, min_genes={min_genes:.1f} → keep {n_keep:,}/{adata.n_obs}\")\n",
    "\n",
    "if n_keep == 0:\n",
    "    # Fallback if the panel is very sparse or distributions are odd\n",
    "    min_counts, min_genes = 10, 5\n",
    "    keep = (cnt >= min_counts) & (ng >= min_genes)\n",
    "    n_keep = int(keep.sum())\n",
    "    print(f\"[QC][fallback] min_counts={min_counts}, min_genes={min_genes} → keep {n_keep:,}/{adata.n_obs}\")\n",
    "    assert n_keep > 0, \"QC still yielded 0 cells; inspect distributions.\"\n",
    "\n",
    "adata = adata[keep].copy()\n",
    "print(f\"[QC] post-filter shape: {adata.shape}\")\n",
    "\n",
    "# Figure 4—spatial view after QC (density)\n",
    "xy = adata.obsm[\"spatial\"]\n",
    "plt.figure(figsize=(5.6,5.6))\n",
    "plt.hist2d(xy[:,0], xy[:,1], bins=300)\n",
    "plt.gca().invert_yaxis(); plt.axis(\"equal\"); plt.title(\"Spatial density (post QC)\")\n",
    "plt.tight_layout(); plt.savefig(FIGS/\"04_spatial_density_post_qc.png\", dpi=200); plt.close()\n"
   ]
  },
  {
   "cell_type": "markdown",
   "id": "7349c96e-f12d-45cb-b1de-af3f53ece8cf",
   "metadata": {},
   "source": [
    "Standard Scanpy pipeline. We keep most defaults, choosing sizes appropriate to a ~500-gene panel.\n"
   ]
  },
  {
   "cell_type": "code",
   "execution_count": 28,
   "id": "4e38d41f-0752-49c9-9b03-45735fb22899",
   "metadata": {},
   "outputs": [
    {
     "name": "stderr",
     "output_type": "stream",
     "text": [
      "/tmp/ipykernel_95611/1462236063.py:18: FutureWarning: In the future, the default backend for leiden will be igraph instead of leidenalg.\n",
      "\n",
      " To achieve the future defaults please pass: flavor=\"igraph\" and n_iterations=2.  directed must also be False to work with igraph's implementation.\n",
      "  sc.tl.leiden(adata, resolution=0.5)\n"
     ]
    }
   ],
   "source": [
    "# Normalization\n",
    "sc.pp.normalize_total(adata, target_sum=1e4)\n",
    "sc.pp.log1p(adata)  # safe because we ensured ≥1 cell remains\n",
    "\n",
    "# Highly variable genes (with small panels, just take all or up to 3000)\n",
    "sc.pp.highly_variable_genes(adata, n_top_genes=min(3000, adata.n_vars), subset=True)\n",
    "\n",
    "# PCA\n",
    "n_comps = min(50, max(2, adata.n_vars-1))\n",
    "sc.pp.pca(adata, n_comps=n_comps)\n",
    "\n",
    "# Neighbors + UMAP\n",
    "n_pcs = min(30, adata.obsm['X_pca'].shape[1])\n",
    "sc.pp.neighbors(adata, n_neighbors=15, n_pcs=n_pcs)\n",
    "sc.tl.umap(adata)\n",
    "\n",
    "# Clustering\n",
    "sc.tl.leiden(adata, resolution=0.5)\n",
    "\n",
    "# Figure 5—PCA scree\n",
    "plt.figure()\n",
    "var = adata.uns[\"pca\"][\"variance_ratio\"]\n",
    "plt.plot(np.arange(1, len(var)+1), var, marker=\"o\", lw=1)\n",
    "plt.xlabel(\"PC\"); plt.ylabel(\"Explained variance\"); plt.title(\"PCA variance ratio\")\n",
    "plt.tight_layout(); plt.savefig(FIGS/\"05_pca_scree.png\", dpi=200); plt.close()\n",
    "\n",
    "# Figure 6—UMAP by cluster\n",
    "sc.pl.umap(adata, color=\"leiden\", legend_loc=\"on data\", size=8, show=False)\n",
    "plt.tight_layout(); plt.savefig(FIGS/\"06_umap_leiden.png\", dpi=200); plt.close()\n",
    "\n",
    "# Figure 7—UMAP colored by QC covariates\n",
    "for col in [\"total_counts\",\"n_genes_by_counts\"]:\n",
    "    sc.pl.umap(adata, color=col, cmap=\"viridis\", size=8, show=False)\n",
    "    plt.tight_layout(); plt.savefig(FIGS/f\"07_umap_{col}.png\", dpi=200); plt.close()\n"
   ]
  },
  {
   "cell_type": "markdown",
   "id": "71ed2f3b-0260-454e-991d-55d5fdfa8ae1",
   "metadata": {},
   "source": [
    "Three spatial views: cluster map, 2D density, and a spatial feature layer.\n"
   ]
  },
  {
   "cell_type": "code",
   "execution_count": 31,
   "id": "a28b7b3f-41f0-43f5-93c6-f955e4ea76df",
   "metadata": {},
   "outputs": [],
   "source": [
    "from scipy.sparse import issparse\n",
    "\n",
    "xy = adata.obsm[\"spatial\"]\n",
    "\n",
    "# --------------------------\n",
    "# Figure 9 — spatial: Leiden\n",
    "# --------------------------\n",
    "plt.figure(figsize=(5.6, 5.6))\n",
    "c = adata.obs[\"leiden\"].astype(\"category\").cat.codes.to_numpy()\n",
    "plt.scatter(xy[:, 0], xy[:, 1], c=c, s=1.2, alpha=0.85)\n",
    "plt.gca().invert_yaxis()\n",
    "plt.axis(\"equal\")\n",
    "plt.title(\"Spatial: Leiden clusters\")\n",
    "plt.tight_layout()\n",
    "plt.savefig(FIGS / \"09_spatial_leiden.png\", dpi=220)\n",
    "plt.close()\n",
    "\n",
    "# -------------------------------------------------------\n",
    "# Figure 10 — spatial density (post-QC, fine binning)\n",
    "# -------------------------------------------------------\n",
    "plt.figure(figsize=(5.6, 5.6))\n",
    "plt.hist2d(xy[:, 0], xy[:, 1], bins=400)\n",
    "plt.gca().invert_yaxis()\n",
    "plt.axis(\"equal\")\n",
    "plt.title(\"Spatial: cell density (fine bins)\")\n",
    "plt.tight_layout()\n",
    "plt.savefig(FIGS / \"10_spatial_density_fine.png\", dpi=220)\n",
    "plt.close()\n",
    "\n",
    "# -------------------------------------------------------\n",
    "# Figure 11 — spatial feature map (one gene)\n",
    "# -------------------------------------------------------\n",
    "g0 = preferred[0] if 'preferred' in globals() and len(preferred) else adata.var_names[0]\n",
    "\n",
    "col_mat = adata[:, g0].X  # (n_cells, 1)\n",
    "# Convert safely to a flat numeric array (dense for this single column is fine)\n",
    "if issparse(col_mat):\n",
    "    vals = col_mat.toarray().ravel()\n",
    "else:\n",
    "    vals = np.asarray(col_mat).ravel()\n",
    "\n",
    "# Ensure lengths match and NaNs handled\n",
    "assert vals.shape[0] == xy.shape[0], f\"Length mismatch: vals={vals.shape}, xy={xy.shape}\"\n",
    "vals = np.nan_to_num(vals, nan=0.0, posinf=0.0, neginf=0.0)\n",
    "\n",
    "plt.figure(figsize=(5.6, 5.6))\n",
    "scat = plt.scatter(xy[:, 0], xy[:, 1], c=vals, s=1.2, alpha=0.95)\n",
    "plt.gca().invert_yaxis()\n",
    "plt.axis(\"equal\")\n",
    "plt.title(f\"Spatial: {g0}\")\n",
    "plt.colorbar(scat, fraction=0.046, pad=0.04, label=\"counts\")\n",
    "plt.tight_layout()\n",
    "plt.savefig(FIGS / f\"11_spatial_feature_{g0}.png\", dpi=220)\n",
    "plt.close()\n"
   ]
  },
  {
   "cell_type": "code",
   "execution_count": 32,
   "id": "9512e21f-5365-4ddb-ab70-d15ee079398f",
   "metadata": {},
   "outputs": [],
   "source": [
    "# Figure 11b — spatial: total_counts (QC covariate)\n",
    "vals_tc = adata.obs[\"total_counts\"].to_numpy()\n",
    "plt.figure(figsize=(5.6, 5.6))\n",
    "scat = plt.scatter(xy[:, 0], xy[:, 1], c=vals_tc, s=1.0, alpha=0.9)\n",
    "plt.gca().invert_yaxis(); plt.axis(\"equal\"); plt.title(\"Spatial: total_counts\")\n",
    "plt.colorbar(scat, fraction=0.046, pad=0.04, label=\"total_counts\")\n",
    "plt.tight_layout(); plt.savefig(FIGS / \"11b_spatial_total_counts.png\", dpi=220); plt.close()\n",
    "\n",
    "# Figure 11c — spatial: genes detected\n",
    "vals_ng = adata.obs[\"n_genes_by_counts\"].to_numpy()\n",
    "plt.figure(figsize=(5.6, 5.6))\n",
    "scat = plt.scatter(xy[:, 0], xy[:, 1], c=vals_ng, s=1.0, alpha=0.9)\n",
    "plt.gca().invert_yaxis(); plt.axis(\"equal\"); plt.title(\"Spatial: n_genes_by_counts\")\n",
    "plt.colorbar(scat, fraction=0.046, pad=0.04, label=\"n_genes\")\n",
    "plt.tight_layout(); plt.savefig(FIGS / \"11c_spatial_n_genes.png\", dpi=220); plt.close()\n"
   ]
  },
  {
   "cell_type": "markdown",
   "id": "4165b51f-5a01-47df-8ebd-a8f2cc1d0fb7",
   "metadata": {},
   "source": [
    "We compute Wilcoxon markers and **neighborhood enrichment** (Squidpy) to assess micro-territories.\n"
   ]
  },
  {
   "cell_type": "code",
   "execution_count": 49,
   "id": "a4d33d32-d645-459c-aad6-02183d21ec09",
   "metadata": {},
   "outputs": [],
   "source": [
    "# Markers\n",
    "# Find cluster markers (Wilcoxon rank-sum)\n",
    "# This will compute per-cluster DE genes using the 'leiden' labels you already computed.\n",
    "sc.tl.rank_genes_groups(\n",
    "    adata, \n",
    "    groupby=\"leiden\", \n",
    "    method=\"wilcoxon\", \n",
    "    use_raw=False\n",
    ")\n",
    "# Figure 12 — Dotplot of top markers\n",
    "# Use return_fig=True so we can save cleanly without tight_layout warnings.\n",
    "fig = sc.pl.rank_genes_groups_dotplot(\n",
    "    adata, \n",
    "    n_genes=4, \n",
    "    show=False, \n",
    "    return_fig=True\n",
    ")\n",
    "fig.savefig(FIGS / \"12_markers_dotplot.png\", dpi=220, bbox_inches=\"tight\")\n",
    "plt.close()"
   ]
  },
  {
   "cell_type": "code",
   "execution_count": 37,
   "id": "3f51290b-9db2-41b2-af42-9c7d8c88a170",
   "metadata": {},
   "outputs": [],
   "source": [
    "# Figure 13 — Heatmap of top markers\n",
    "fig = sc.pl.rank_genes_groups_heatmap(\n",
    "    adata, \n",
    "    n_genes=4, \n",
    "    show=False, \n",
    "    use_raw=False, \n",
    "    swap_axes=True,        # often easier to read\n",
    "    dendrogram=False, \n",
    "    standard_scale=\"var\"   # normalize genes across clusters\n",
    ")\n",
    "plt.gcf().savefig(FIGS / \"13_markers_heatmap.png\", dpi=220, bbox_inches=\"tight\")\n",
    "plt.close()\n"
   ]
  },
  {
   "cell_type": "code",
   "execution_count": null,
   "id": "b0e7ee83-40a4-4a36-85d7-9bdc23f61fd9",
   "metadata": {},
   "outputs": [],
   "source": [
    "#Spatial neighbors + neighborhood enrichment (Squidpy"
   ]
  },
  {
   "cell_type": "code",
   "execution_count": 38,
   "id": "fa5bc16f-c4e1-4f0c-baf3-754920949687",
   "metadata": {},
   "outputs": [],
   "source": [
    "import squidpy as sq\n",
    "\n",
    "# Build spatial graph from your coordinates in adata.obsm['spatial'] (units: microns)\n",
    "# radius: choose ~25–35 µm for Xenium cell neighborhoods; tweak if too sparse/dense\n",
    "sq.gr.spatial_neighbors(\n",
    "    adata,\n",
    "    coord_type=\"generic\",   # coordinates are in plain x/y (not pixel indices)\n",
    "    spatial_key=\"spatial\",\n",
    "    radius=30.0,            # try 25–35\n",
    "    n_rings=1,              # one-ring neighborhoods\n",
    "    set_diag=False\n",
    ")\n",
    "\n",
    "# Neighborhood enrichment requires permutations (must be > 0).\n",
    "# 100 is fast-ish and gives stable z-scores; you can raise later to 1000 for publication.\n",
    "sq.gr.nhood_enrichment(\n",
    "    adata, \n",
    "    cluster_key=\"leiden\", \n",
    "    n_perms=100, \n",
    "    show_progress_bar=False\n",
    ")\n"
   ]
  },
  {
   "cell_type": "code",
   "execution_count": 45,
   "id": "83962859-edb8-40f5-ac50-54625d60005f",
   "metadata": {},
   "outputs": [],
   "source": [
    "# Figure 14 — Neighborhood enrichment heatmap\n",
    "# Shows over/under-representation of cluster pairs in each other's neighborhood.\n",
    "fig = sq.pl.nhood_enrichment(\n",
    "    adata, \n",
    "    cluster_key=\"leiden\", \n",
    "    show=False, \n",
    "    cmap=\"coolwarm\", \n",
    "    vmin=-5, vmax=5  # clip extremes for readability\n",
    ")\n",
    "plt.gcf().savefig(FIGS / \"14_nhood_enrichment.png\", dpi=220, bbox_inches=\"tight\")\n",
    "plt.close()"
   ]
  },
  {
   "cell_type": "code",
   "execution_count": 46,
   "id": "5b6884ad-8d4e-40af-80f6-c8242f3033c2",
   "metadata": {},
   "outputs": [],
   "source": [
    "# Figure 15 — Cluster size barplot\n",
    "# Helpful to see abundance per cluster\n",
    "counts = adata.obs[\"leiden\"].value_counts().sort_index()\n",
    "plt.figure(figsize=(6,3))\n",
    "counts.plot(kind=\"bar\")\n",
    "plt.ylabel(\"cells\")\n",
    "plt.title(\"Cluster sizes (Leiden)\")\n",
    "plt.tight_layout()\n",
    "plt.savefig(FIGS / \"15_cluster_sizes.png\", dpi=220)\n",
    "plt.close()"
   ]
  },
  {
   "cell_type": "code",
   "execution_count": 47,
   "id": "8e22e23d-9c72-4258-859d-b3ed1607268e",
   "metadata": {},
   "outputs": [
    {
     "name": "stderr",
     "output_type": "stream",
     "text": [
      "/tmp/ipykernel_95611/2621083565.py:7: FutureWarning: The default of observed=False is deprecated and will be changed to True in a future version of pandas. Pass observed=False to retain current behavior or observed=True to adopt the future default and silence this warning.\n",
      "  .groupby(\"group\")\n"
     ]
    }
   ],
   "source": [
    "# Figure 16 — Top marker per cluster (dotplot subset)\n",
    "# Extract top gene names per cluster and plot a compact dotplot.\n",
    "top = 3\n",
    "marker_df = sc.get.rank_genes_groups_df(adata, group=None)\n",
    "top_markers = (marker_df\n",
    "               .sort_values([\"group\", \"pvals_adj\"])\n",
    "               .groupby(\"group\")\n",
    "               .head(top)[\"names\"]\n",
    "               .unique().tolist())\n",
    "\n",
    "fig = sc.pl.dotplot(\n",
    "    adata, \n",
    "    var_names=top_markers, \n",
    "    groupby=\"leiden\", \n",
    "    show=False, \n",
    "    standard_scale=\"var\"\n",
    ")\n",
    "plt.gcf().savefig(FIGS / \"16_top_marker_dotplot.png\", dpi=220, bbox_inches=\"tight\")\n",
    "plt.close()"
   ]
  },
  {
   "cell_type": "code",
   "execution_count": 48,
   "id": "28eba24f-3817-4290-a8ef-d425d84b9b5d",
   "metadata": {},
   "outputs": [],
   "source": [
    "# Figure 18 — Neighborhood graph degree (how many neighbors each cell has)\n",
    "# Useful to check radius choice didn't create a too-sparse or too-dense graph.\n",
    "A = adata.obsp[\"spatial_connectivities\"]  # CSR matrix\n",
    "deg = np.asarray(A.sum(axis=1)).ravel()\n",
    "plt.figure(figsize=(5,3))\n",
    "plt.hist(deg, bins=50)\n",
    "plt.xlabel(\"neighbors per cell\"); plt.ylabel(\"cells\")\n",
    "plt.title(\"Spatial graph degree\")\n",
    "plt.tight_layout()\n",
    "plt.savefig(FIGS / \"18_neighbor_degree_hist.png\", dpi=220)\n",
    "plt.close()"
   ]
  }
 ],
 "metadata": {
  "kernelspec": {
   "display_name": "Python (xenium 3.11)",
   "language": "python",
   "name": "xenium-311"
  },
  "language_info": {
   "codemirror_mode": {
    "name": "ipython",
    "version": 3
   },
   "file_extension": ".py",
   "mimetype": "text/x-python",
   "name": "python",
   "nbconvert_exporter": "python",
   "pygments_lexer": "ipython3",
   "version": "3.11.13"
  }
 },
 "nbformat": 4,
 "nbformat_minor": 5
}
